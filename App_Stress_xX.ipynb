{
 "cells": [
  {
   "cell_type": "markdown",
   "id": "67f69e90",
   "metadata": {},
   "source": [
    "# Приложение для прогноза напряжения (Stress)"
   ]
  },
  {
   "cell_type": "code",
   "execution_count": 2,
   "id": "1b603c2e",
   "metadata": {},
   "outputs": [],
   "source": [
    "import pandas as pd\n",
    "import numpy as np\n",
    "import seaborn as sns\n",
    "import matplotlib.pyplot as plt"
   ]
  },
  {
   "cell_type": "code",
   "execution_count": 3,
   "id": "c131250f",
   "metadata": {},
   "outputs": [],
   "source": [
    "# Загружаем отфильтрованный датафрейм (3 колонки)\n",
    "dfc = pd.read_csv(r\"C:\\Users\\piken\\df_clean.csv\")"
   ]
  },
  {
   "cell_type": "code",
   "execution_count": 4,
   "id": "e181e009",
   "metadata": {},
   "outputs": [
    {
     "name": "stdout",
     "output_type": "stream",
     "text": [
      "     C_wt        dL    Stress\n",
      "0  77.342  0.000006  7.121136\n",
      "1  77.342  0.000012  7.133818\n",
      "2  77.342  0.000112  7.529003\n"
     ]
    }
   ],
   "source": [
    "print(dfc.head(3))"
   ]
  },
  {
   "cell_type": "code",
   "execution_count": 5,
   "id": "394b1e57",
   "metadata": {},
   "outputs": [],
   "source": [
    "# Загружаем нормализованный датафрейм\n",
    "df = pd.read_csv(r\"dfnorm.csv\")"
   ]
  },
  {
   "cell_type": "code",
   "execution_count": 6,
   "id": "f633b6bc",
   "metadata": {},
   "outputs": [
    {
     "name": "stdout",
     "output_type": "stream",
     "text": [
      "       C_wt        dL    Stress\n",
      "0 -1.026045 -1.814900 -2.247307\n",
      "1 -1.026045 -1.814860 -2.247055\n",
      "2 -1.026045 -1.814207 -2.239318\n"
     ]
    }
   ],
   "source": [
    "print(df.head(3))"
   ]
  },
  {
   "cell_type": "markdown",
   "id": "2c6e67ad",
   "metadata": {},
   "source": [
    "## Входы и выходы для моделей"
   ]
  },
  {
   "cell_type": "code",
   "execution_count": 7,
   "id": "b46dc57e",
   "metadata": {},
   "outputs": [
    {
     "data": {
      "text/plain": [
       "['powertransformer_x.joblin']"
      ]
     },
     "execution_count": 7,
     "metadata": {},
     "output_type": "execute_result"
    }
   ],
   "source": [
    "from sklearn.preprocessing import PowerTransformer\n",
    "from joblib import dump, load\n",
    "\n",
    "powertransformer_y = PowerTransformer()  \n",
    "powertransformer_x = PowerTransformer()\n",
    "y_label = ['C_wt', 'dL']\n",
    "powertransformer_y.fit(dfc[y_label])\n",
    "powertransformer_x.fit(dfc.drop(y_label, axis = 1))\n",
    "\n",
    "# Сохраним масштабаторы для x и y\n",
    "# from joblib import dump, load\n",
    "dump(powertransformer_y, 'powertransformer_y.joblin')\n",
    "dump(powertransformer_x, 'powertransformer_x.joblin')\n",
    "\n",
    "# scaler_y.inverse_transform(y) - применим позже в приложении"
   ]
  },
  {
   "cell_type": "code",
   "execution_count": 8,
   "id": "01636945",
   "metadata": {},
   "outputs": [
    {
     "data": {
      "text/plain": [
       "(79.77677349884928, 0.617722666931493)"
      ]
     },
     "execution_count": 8,
     "metadata": {},
     "output_type": "execute_result"
    }
   ],
   "source": [
    "# проверим x\n",
    "powertransformer_y_l = load('powertransformer_y.joblin')\n",
    "x1 = powertransformer_y_l.inverse_transform(np.array([0.1,0.99]).reshape(1,-1))\n",
    "x1[0][0], x1[0][1]"
   ]
  },
  {
   "cell_type": "code",
   "execution_count": 9,
   "id": "448500a4",
   "metadata": {},
   "outputs": [
    {
     "data": {
      "text/plain": [
       "892.501062193717"
      ]
     },
     "execution_count": 9,
     "metadata": {},
     "output_type": "execute_result"
    }
   ],
   "source": [
    "# проверим y\n",
    "powertransformer_x_l = load('powertransformer_x.joblin')\n",
    "y1 = powertransformer_x_l.inverse_transform(np.array([0.5]).reshape(1,-1))\n",
    "y1[0][0]"
   ]
  },
  {
   "cell_type": "markdown",
   "id": "fa662619",
   "metadata": {},
   "source": [
    "## Создадим тренировочную и тестовую выборки"
   ]
  },
  {
   "cell_type": "code",
   "execution_count": 10,
   "id": "8ec4c43a",
   "metadata": {},
   "outputs": [
    {
     "data": {
      "text/plain": [
       "((42485,), (42485, 2))"
      ]
     },
     "execution_count": 10,
     "metadata": {},
     "output_type": "execute_result"
    }
   ],
   "source": [
    "from sklearn.model_selection import train_test_split\n",
    "\n",
    "# Скопируем датафрейм в x. y будет равен колонке Stress\n",
    "X = df.copy()\n",
    "y = X.pop('Stress')\n",
    "y_label = ['C_wt', 'dL']\n",
    "y.shape, X.shape"
   ]
  },
  {
   "cell_type": "code",
   "execution_count": 11,
   "id": "705b2107",
   "metadata": {},
   "outputs": [],
   "source": [
    "# Разделим датасет на тренировочную и тестовую выборку\n",
    "# Активируем перемешивание образцов, train - 70%, test - 30%\n",
    "\n",
    "X_train, X_test, y_train, y_test = train_test_split(X,y,\n",
    "                                                    test_size=0.3, \n",
    "                                                    random_state=17, \n",
    "                                                   )"
   ]
  },
  {
   "cell_type": "code",
   "execution_count": null,
   "id": "094cdd49",
   "metadata": {},
   "outputs": [],
   "source": []
  },
  {
   "cell_type": "markdown",
   "id": "bf0523ea",
   "metadata": {},
   "source": [
    "## Алгоритм регрессии K БЛИЖАЙШИХ СОСЕДЕЙ"
   ]
  },
  {
   "cell_type": "code",
   "execution_count": 12,
   "id": "b5953c58",
   "metadata": {},
   "outputs": [],
   "source": [
    "from sklearn.model_selection import train_test_split\n",
    "from sklearn.model_selection import GridSearchCV\n",
    "from sklearn.neighbors import KNeighborsRegressor\n",
    "from sklearn.model_selection import cross_val_score, GridSearchCV, KFold\n",
    "from sklearn import metrics\n",
    "import time # время выполнения кода"
   ]
  },
  {
   "cell_type": "code",
   "execution_count": 13,
   "id": "00d517ab",
   "metadata": {},
   "outputs": [],
   "source": [
    "# К Ближайших соседей - KNeighborsRegressor\n",
    "model = KNeighborsRegressor()\n",
    "grid = {'n_neighbors' : range(1, 50, 1), \n",
    "          'weights' : ['uniform', 'distance'],\n",
    "          'algorithm' : ['auto']\n",
    "          }\n",
    "gsc = GridSearchCV(model, grid, n_jobs=-1, cv=5,verbose = 1)"
   ]
  },
  {
   "cell_type": "code",
   "execution_count": 14,
   "id": "1150f771",
   "metadata": {},
   "outputs": [
    {
     "name": "stdout",
     "output_type": "stream",
     "text": [
      "Fitting 5 folds for each of 98 candidates, totalling 490 fits\n",
      "32.32035565376282\n"
     ]
    }
   ],
   "source": [
    "# Время выполнения\n",
    "start = time.time() # точка отсчета времени\n",
    "gsc.fit(X_train,  y_train)\n",
    "model = gsc.best_estimator_\n",
    "model.fit(X_train,  y_train)\n",
    "y_pred = model.predict(X_test)\n",
    "model_name = 'KNeighborsRegressor'\n",
    "\n",
    "# Вывод времени выполнения кода программы\n",
    "end = time.time() - start\n",
    "print(end)"
   ]
  },
  {
   "cell_type": "code",
   "execution_count": 15,
   "id": "947082dc",
   "metadata": {},
   "outputs": [
    {
     "data": {
      "text/plain": [
       "KNeighborsRegressor(n_neighbors=3, weights='distance')"
      ]
     },
     "execution_count": 15,
     "metadata": {},
     "output_type": "execute_result"
    }
   ],
   "source": [
    "# Параметры модели\n",
    "model"
   ]
  },
  {
   "cell_type": "code",
   "execution_count": 16,
   "id": "831203f8",
   "metadata": {},
   "outputs": [
    {
     "data": {
      "text/plain": [
       "['KNN_m.joblib']"
      ]
     },
     "execution_count": 16,
     "metadata": {},
     "output_type": "execute_result"
    }
   ],
   "source": [
    "# Сохраним модель в формате joblib\n",
    "from joblib import dump, load\n",
    "dump(KNeighborsRegressor, 'KNN_m.joblib')"
   ]
  },
  {
   "cell_type": "code",
   "execution_count": 17,
   "id": "7ee97f61",
   "metadata": {},
   "outputs": [
    {
     "data": {
      "text/plain": [
       "KNeighborsRegressor(n_neighbors=3, weights='distance')"
      ]
     },
     "execution_count": 17,
     "metadata": {},
     "output_type": "execute_result"
    }
   ],
   "source": [
    "# Сохраним модель в формате pickle\n",
    "model_KNNM = load('pickle_model_KNN.pkl')\n",
    "model_KNNM"
   ]
  },
  {
   "cell_type": "code",
   "execution_count": null,
   "id": "73306a91",
   "metadata": {},
   "outputs": [],
   "source": []
  },
  {
   "cell_type": "markdown",
   "id": "db494998",
   "metadata": {},
   "source": [
    "## Приложение"
   ]
  },
  {
   "cell_type": "code",
   "execution_count": 18,
   "id": "750015c7",
   "metadata": {},
   "outputs": [],
   "source": [
    "def input_variable():\n",
    "  x1 = float(input('Введите концентрацию углерода (C_wt), %: '))\n",
    "  x2 = float(input('Введите относительное удлинение (dL), %: '))\n",
    "  return x1,x2\n",
    "\n",
    "def input_proc(X):   \n",
    "    print('Вызов модели KNN.pkl')\n",
    "    res = model_KNNM.predict(X) #модель должна принять значения из двух столбцов\n",
    "    return res "
   ]
  },
  {
   "cell_type": "code",
   "execution_count": 20,
   "id": "dd25a710",
   "metadata": {
    "scrolled": true
   },
   "outputs": [
    {
     "name": "stdout",
     "output_type": "stream",
     "text": [
      "Данное приложение прогнозирует значение напряжения (Stress)\n",
      "Для прогноза введите 1, для выхода - 2\n",
      "1\n",
      "Введите данные:\n",
      "Введите концентрацию углерода (C_wt), %: 81\n",
      "Введите относительное удлинение (dL), %: 0.6\n",
      "['Прогноз значения напряжения (Stress), МПа']\n",
      "Вызов модели KNN.pkl\n",
      "[[1053.72349874]]\n",
      "Для прогноза введите 1, для выхода - 2\n",
      "2\n"
     ]
    }
   ],
   "source": [
    "def app_model():\n",
    "  scaler_x = load('powertransformer_x.joblin')\n",
    "  scaler_y = load('powertransformer_y.joblin') \n",
    "  model_l = load('pickle_model_KNN.pkl') \n",
    "  print('Данное приложение прогнозирует значение напряжения (Stress)')\n",
    "  for i in range(100):\n",
    "    try:\n",
    "      print('Для прогноза введите 1, для выхода - 2')\n",
    "      check = input()\n",
    "      \n",
    "      if check == '1':\n",
    "        print('Введите данные:')\n",
    "        X = input_variable()\n",
    "        X = scaler_y.transform(np.array(X).reshape(1,-1))\n",
    "        print(['Прогноз значения напряжения (Stress), МПа'])\n",
    "        print(scaler_x.inverse_transform(input_proc(X).reshape(1,-1)))\n",
    "\n",
    "      elif check == '2':\n",
    "        break\n",
    "      else:\n",
    "        print('Повторите выбор')\n",
    "    except:\n",
    "      print('Неверные данные. Повторите операцию')\n",
    "app_model()"
   ]
  },
  {
   "cell_type": "code",
   "execution_count": null,
   "id": "94453c00",
   "metadata": {},
   "outputs": [],
   "source": []
  }
 ],
 "metadata": {
  "kernelspec": {
   "display_name": "Python 3 (ipykernel)",
   "language": "python",
   "name": "python3"
  },
  "language_info": {
   "codemirror_mode": {
    "name": "ipython",
    "version": 3
   },
   "file_extension": ".py",
   "mimetype": "text/x-python",
   "name": "python",
   "nbconvert_exporter": "python",
   "pygments_lexer": "ipython3",
   "version": "3.9.7"
  }
 },
 "nbformat": 4,
 "nbformat_minor": 5
}
